{
  "nbformat": 4,
  "nbformat_minor": 2,
  "metadata": {
    "colab": {
      "name": "Image to Pencil Sketch",
      "provenance": []
    },
    "kernelspec": {
      "name": "python3",
      "display_name": "Python 3.9.6 64-bit"
    },
    "language_info": {
      "name": "python",
      "version": "3.9.6",
      "mimetype": "text/x-python",
      "codemirror_mode": {
        "name": "ipython",
        "version": 3
      },
      "pygments_lexer": "ipython3",
      "nbconvert_exporter": "python",
      "file_extension": ".py"
    },
    "interpreter": {
      "hash": "f749e4872645cc1f638c530602703e833ca62d2a5982316cef86ab76e5ac67a1"
    }
  },
  "cells": [
    {
      "cell_type": "markdown",
      "source": [
        "# Importing Required Libraries"
      ],
      "metadata": {
        "id": "Ignjy7RvDOeZ"
      }
    },
    {
      "cell_type": "code",
      "execution_count": 1,
      "source": [
        "import cv2\r\n",
        "from google.colab.patches import cv2_imshow"
      ],
      "outputs": [],
      "metadata": {
        "id": "P7AYJ_RH-NcA"
      }
    },
    {
      "cell_type": "markdown",
      "source": [
        "# **Loading & Displaying the Image**"
      ],
      "metadata": {
        "id": "R-z3sj97DrGJ"
      }
    },
    {
      "cell_type": "code",
      "execution_count": null,
      "source": [
        "image = cv2.imread(\"dog.jpg\")\r\n",
        "cv2_imshow(image)"
      ],
      "outputs": [],
      "metadata": {
        "colab": {
          "base_uri": "https://localhost:8080/",
          "height": 167
        },
        "id": "mmoir-DS-Svd",
        "outputId": "4f1755a0-b174-44a3-8c82-460b2f8fd486"
      }
    },
    {
      "cell_type": "markdown",
      "source": [
        "# **Converting an Image into Gray Scale Image**"
      ],
      "metadata": {
        "id": "aPucgSH4D3Rl"
      }
    },
    {
      "cell_type": "code",
      "execution_count": null,
      "source": [
        "grayImage = cv2.cvtColor(image,cv2.COLOR_BGR2GRAY)\r\n",
        "cv2_imshow(grayImage)"
      ],
      "outputs": [],
      "metadata": {
        "colab": {
          "base_uri": "https://localhost:8080/",
          "height": 167
        },
        "id": "SCT7-bwv-i50",
        "outputId": "cf1bc8bc-784e-458c-82df-8d6796373a3b"
      }
    },
    {
      "cell_type": "markdown",
      "source": [
        "# **Inverting the Image**"
      ],
      "metadata": {
        "id": "PKhrR2RND_n8"
      }
    },
    {
      "cell_type": "code",
      "execution_count": null,
      "source": [
        "invertImage = cv2.bitwise_not(grayImage)\n",
        "cv2_imshow(invertImage)"
      ],
      "outputs": [],
      "metadata": {
        "colab": {
          "base_uri": "https://localhost:8080/",
          "height": 167
        },
        "id": "ryM9QDAxB-mJ",
        "outputId": "d111d3f4-7878-4a96-cfe4-a539ea42f775"
      }
    },
    {
      "cell_type": "markdown",
      "source": [
        "# **Smoothing the Image**"
      ],
      "metadata": {
        "id": "Lc0gRI2aEFDe"
      }
    },
    {
      "cell_type": "code",
      "execution_count": null,
      "source": [
        "image_smoothing = cv2.GaussianBlur(invertImage, (21,21),sigmaX=0, sigmaY=0)\n",
        "cv2_imshow(image_smoothing)"
      ],
      "outputs": [],
      "metadata": {
        "colab": {
          "base_uri": "https://localhost:8080/",
          "height": 167
        },
        "id": "6MsbUcSzCJaB",
        "outputId": "c6753db5-6e88-4195-9641-78cec81d0586"
      }
    },
    {
      "cell_type": "markdown",
      "source": [
        "# **Obtaining the Final Image**"
      ],
      "metadata": {
        "id": "NCpUlhrTEK7S"
      }
    },
    {
      "cell_type": "code",
      "execution_count": null,
      "source": [
        "def dodgeV2(x,y):\n",
        "  return cv2.divide(x,255-y, scale=256)"
      ],
      "outputs": [],
      "metadata": {
        "id": "WMFV8Kl-CYy-"
      }
    },
    {
      "cell_type": "markdown",
      "source": [
        "# **Final Output as Pencil Sketch**"
      ],
      "metadata": {
        "id": "A1KeAJRJERkI"
      }
    },
    {
      "cell_type": "code",
      "execution_count": null,
      "source": [
        "final_image = dodgeV2(grayImage,image_smoothing)\n",
        "cv2_imshow(final_image)"
      ],
      "outputs": [],
      "metadata": {
        "colab": {
          "base_uri": "https://localhost:8080/",
          "height": 167
        },
        "id": "BBBFbcLICrAJ",
        "outputId": "ecab5e52-d2b9-4f54-e119-91dcc5edf759"
      }
    },
    {
      "cell_type": "markdown",
      "source": [
        "# **Initial Image -> Final Image**"
      ],
      "metadata": {
        "id": "5C9gFqXjEnxH"
      }
    },
    {
      "cell_type": "code",
      "execution_count": null,
      "source": [
        "cv2_imshow(image)\n",
        "cv2_imshow(final_image)"
      ],
      "outputs": [],
      "metadata": {
        "colab": {
          "base_uri": "https://localhost:8080/",
          "height": 317
        },
        "id": "qu8ZXryAC7x2",
        "outputId": "859443f4-3cf5-42a0-9b86-86cde59d0e7f"
      }
    },
    {
      "cell_type": "code",
      "execution_count": null,
      "source": [],
      "outputs": [],
      "metadata": {
        "id": "WM9YZTJFC_2P"
      }
    }
  ]
}